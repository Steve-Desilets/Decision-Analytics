{
 "cells": [
  {
   "cell_type": "markdown",
   "id": "cd6a8d1f",
   "metadata": {},
   "source": [
    "# Week 8 Discussion Post - Monte Carlo Simulation - Supporting Python Code"
   ]
  },
  {
   "cell_type": "markdown",
   "id": "f1989ad4",
   "metadata": {},
   "source": [
    "#### Steve Desilets"
   ]
  },
  {
   "cell_type": "markdown",
   "id": "63ebcd4f",
   "metadata": {},
   "source": [
    "#### August 8, 2023"
   ]
  },
  {
   "cell_type": "markdown",
   "id": "33041375",
   "metadata": {},
   "source": [
    "## Question"
   ]
  },
  {
   "cell_type": "markdown",
   "id": "ee1ecb4d",
   "metadata": {},
   "source": [
    "Write a Monte-Carlo simulation of a game of chance (e.g., craps, roulette, etc.)  Post your flowchart, code, and some examples here. "
   ]
  },
  {
   "cell_type": "markdown",
   "id": "d1808874",
   "metadata": {},
   "source": [
    "## Answer"
   ]
  },
  {
   "cell_type": "code",
   "execution_count": null,
   "id": "fb6dc86c",
   "metadata": {},
   "outputs": [],
   "source": [
    "Let's write "
   ]
  }
 ],
 "metadata": {
  "kernelspec": {
   "display_name": "Python 3 (ipykernel)",
   "language": "python",
   "name": "python3"
  },
  "language_info": {
   "codemirror_mode": {
    "name": "ipython",
    "version": 3
   },
   "file_extension": ".py",
   "mimetype": "text/x-python",
   "name": "python",
   "nbconvert_exporter": "python",
   "pygments_lexer": "ipython3",
   "version": "3.9.12"
  }
 },
 "nbformat": 4,
 "nbformat_minor": 5
}
