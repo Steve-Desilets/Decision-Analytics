{
 "cells": [
  {
   "cell_type": "markdown",
   "id": "be13654e",
   "metadata": {},
   "source": [
    "# Week 8 Discussion Post - Monte Carlo Simulation - Supporting Python Code"
   ]
  },
  {
   "cell_type": "markdown",
   "id": "62b723df",
   "metadata": {},
   "source": [
    "#### Steve Desilets"
   ]
  },
  {
   "cell_type": "markdown",
   "id": "402cd4df",
   "metadata": {},
   "source": [
    "#### August 8, 2023"
   ]
  },
  {
   "cell_type": "markdown",
   "id": "feb46d0a",
   "metadata": {},
   "source": [
    "## Question"
   ]
  },
  {
   "cell_type": "markdown",
   "id": "ffcc2fe4",
   "metadata": {},
   "source": [
    "Write a Monte-Carlo simulation of a game of chance (e.g., craps, roulette, etc.)  Post your flowchart, code, and some examples here. "
   ]
  },
  {
   "cell_type": "markdown",
   "id": "2d44b811",
   "metadata": {},
   "source": [
    "## Answer"
   ]
  },
  {
   "cell_type": "markdown",
   "id": "fdd0bba9",
   "metadata": {},
   "source": [
    "Let's write Python code to simulate the outcomes from playing roulette.  We can examine the return on investment when a player executes various strategies, such as betting on a single number, betting on red / black, or betting on either the first / second / third 12 numbers."
   ]
  },
  {
   "cell_type": "code",
   "execution_count": 29,
   "id": "8d0da736",
   "metadata": {},
   "outputs": [
    {
     "name": "stdout",
     "output_type": "stream",
     "text": [
      "The mean and standard deviation of the profits when betting on red are $-0.05 and $1.0, respectively.\n",
      "The mean and standard deviation of the profits when betting on the first 12 numbers are $-0.05 and $1.39, respectively.\n",
      "The mean and standard deviation of the profits when betting on double zero are $-0.06 and $5.74, respectively.\n"
     ]
    }
   ],
   "source": [
    "# Let's start by importing the relevant libraries\n",
    "from numpy import random\n",
    "from statistics import mean, stdev\n",
    "\n",
    "# Let's define the possible outcomes for a roulette wheel\n",
    "possible_outcomes_integers = list(range(0,37))\n",
    "possible_outcomes = list(map(str, possible_outcomes_integers))\n",
    "possible_outcomes.append(\"00\")\n",
    "\n",
    "# Let's define lists that reflect winning in certain situations\n",
    "red_numbers = [\"2\", \"4\", \"6\", \"8\", \"10\", \"12\", \"14\", \"16\", \"18\", \"20\", \"22\", \"24\", \"26\", \"28\", \"30\", \"32\", \"34\", \"36\"]\n",
    "first_12_numbers = [\"1\", \"2\", \"3\", \"4\", \"5\", \"6\", \"7\", \"8\", \"9\", \"10\", \"11\", \"12\"]\n",
    "\n",
    "\n",
    "#print(possible_outcomes)\n",
    "\n",
    "# Let's define some lists that will be useful for storing simulation outcomes\n",
    "roulette_outcomes = []\n",
    "bet_on_red_profits = []\n",
    "bet_on_first_12_profits = []\n",
    "bet_on_double_zero_profits = []\n",
    "\n",
    "# Let's define a function that will generate random roulette outcomes for us\n",
    "def roulette_outcomes_generator(number_of_spins, bet_amount):\n",
    "    for k in range(1, number_of_spins + 1):\n",
    "        random_number = random.choice(possible_outcomes) \n",
    "        roulette_outcomes.append(random_number)\n",
    "        \n",
    "        if random_number in red_numbers:\n",
    "            bet_on_red_profits.append(bet_amount)\n",
    "        else:\n",
    "            bet_on_red_profits.append(-1 * bet_amount)\n",
    "            \n",
    "            \n",
    "        if random_number in first_12_numbers:\n",
    "            bet_on_first_12_profits.append(2 * bet_amount)\n",
    "        else:\n",
    "            bet_on_first_12_profits.append(-1 * bet_amount)\n",
    "            \n",
    "            \n",
    "        if random_number == \"00\":\n",
    "            bet_on_double_zero_profits.append(35 * bet_amount)\n",
    "        else: \n",
    "            bet_on_double_zero_profits.append(-1 * bet_amount)\n",
    "    \n",
    "    mean_red_profit = mean(bet_on_red_profits)\n",
    "    mean_first_12_profit = mean(bet_on_first_12_profits)\n",
    "    mean_double_zero_profit = mean(bet_on_double_zero_profits)\n",
    "    \n",
    "    red_profit_std_dev = stdev(bet_on_red_profits)\n",
    "    first_12_profit_std_dev = stdev(bet_on_first_12_profits)\n",
    "    double_zero_profit_std_dev = stdev(bet_on_double_zero_profits)\n",
    "    \n",
    "        \n",
    "    print(f\"The mean and standard deviation of the profits when betting on red are ${round(mean_red_profit,2)} and ${round(red_profit_std_dev,2)}, respectively.\")\n",
    "    print(f\"The mean and standard deviation of the profits when betting on the first 12 numbers are ${round(mean_first_12_profit,2)} and ${round(first_12_profit_std_dev,2)}, respectively.\")\n",
    "    print(f\"The mean and standard deviation of the profits when betting on double zero are ${round(mean_double_zero_profit,2)} and ${round(double_zero_profit_std_dev,2)}, respectively.\")\n",
    "\n",
    "    \n",
    "roulette_outcomes_generator(100000, 1)\n",
    "\n"
   ]
  }
 ],
 "metadata": {
  "kernelspec": {
   "display_name": "Python 3 (ipykernel)",
   "language": "python",
   "name": "python3"
  },
  "language_info": {
   "codemirror_mode": {
    "name": "ipython",
    "version": 3
   },
   "file_extension": ".py",
   "mimetype": "text/x-python",
   "name": "python",
   "nbconvert_exporter": "python",
   "pygments_lexer": "ipython3",
   "version": "3.9.12"
  }
 },
 "nbformat": 4,
 "nbformat_minor": 5
}
