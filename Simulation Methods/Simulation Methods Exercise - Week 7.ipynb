{
 "cells": [
  {
   "cell_type": "markdown",
   "id": "9d8af165",
   "metadata": {},
   "source": [
    "# MSDS 460 Module 7 (Simulation Methods) Discussion Post - Supporting Python Code "
   ]
  },
  {
   "cell_type": "markdown",
   "id": "b7c09128",
   "metadata": {},
   "source": [
    "#### August 1, 2023"
   ]
  },
  {
   "cell_type": "markdown",
   "id": "d760e910",
   "metadata": {},
   "source": [
    "#### Steve Desilets"
   ]
  },
  {
   "cell_type": "markdown",
   "id": "d9198313",
   "metadata": {},
   "source": [
    "### Question"
   ]
  },
  {
   "cell_type": "markdown",
   "id": "d6373c5b",
   "metadata": {},
   "source": [
    "The probability an unfair die rolls a number is proportional to that number.  Pick two of these unfair, N-sided die (you choose the N ). and sum the values.  Write a simulation to estimate the mean and the variance of the sum of the dice."
   ]
  },
  {
   "cell_type": "markdown",
   "id": "6d7c28c3",
   "metadata": {},
   "source": [
    "### Answer"
   ]
  },
  {
   "cell_type": "markdown",
   "id": "83810120",
   "metadata": {},
   "source": [
    "Let's write a function that allows us to find the mean and variance for the sum of the biased dice rolls described in the problem above."
   ]
  },
  {
   "cell_type": "code",
   "execution_count": 28,
   "id": "1023de13",
   "metadata": {},
   "outputs": [
    {
     "name": "stdout",
     "output_type": "stream",
     "text": [
      "The estimated mean of the dice rolls when there are 6 side(s) is 8.67.\n",
      "The estimated variance of the dice rolls when there are 6 side(s) is 4.44.\n"
     ]
    }
   ],
   "source": [
    "from math import factorial\n",
    "from numpy import random\n",
    "import numpy as np\n",
    "\n",
    "\n",
    "def unfair_dice_statistics_calculator(sides, rolls):\n",
    "    sides_list = []\n",
    "    for j in range(1, sides + 1):\n",
    "        sides_list.append(j)\n",
    "    probability_denominator = sum(sides_list)\n",
    "    \n",
    "    probability_list = []\n",
    "    for i in range(1, sides + 1):\n",
    "        probability_list.append(i / probability_denominator)\n",
    "#    print(probability_list)\n",
    "    \n",
    "    rolls_list_one = []\n",
    "    rolls_list_two = []\n",
    "    for k in range(1, rolls + 1):\n",
    "        rolls_list_one.append(random.choice(range(1, sides+1), p = probability_list))\n",
    "        rolls_list_two.append(random.choice(range(1, sides+1), p = probability_list))\n",
    "#    print(rolls_list_one)\n",
    "\n",
    "    dice_rolls_list = []\n",
    "    for l in range(0, rolls):\n",
    "        dice_rolls_list.append(rolls_list_one[l] + rolls_list_two[l])\n",
    "#    print(dice_rolls_list)\n",
    "    print(f\"The estimated mean of the dice rolls when there are {sides} side(s) is {round(np.mean(dice_rolls_list),2)}.\" )\n",
    "    print(f\"The estimated variance of the dice rolls when there are {sides} side(s) is {round(np.var(dice_rolls_list),2)}.\")\n",
    "\n",
    "\n",
    "unfair_dice_statistics_calculator(6, 1000000)"
   ]
  },
  {
   "cell_type": "code",
   "execution_count": null,
   "id": "13d72c71",
   "metadata": {},
   "outputs": [],
   "source": []
  }
 ],
 "metadata": {
  "kernelspec": {
   "display_name": "Python 3 (ipykernel)",
   "language": "python",
   "name": "python3"
  },
  "language_info": {
   "codemirror_mode": {
    "name": "ipython",
    "version": 3
   },
   "file_extension": ".py",
   "mimetype": "text/x-python",
   "name": "python",
   "nbconvert_exporter": "python",
   "pygments_lexer": "ipython3",
   "version": "3.9.12"
  }
 },
 "nbformat": 4,
 "nbformat_minor": 5
}
