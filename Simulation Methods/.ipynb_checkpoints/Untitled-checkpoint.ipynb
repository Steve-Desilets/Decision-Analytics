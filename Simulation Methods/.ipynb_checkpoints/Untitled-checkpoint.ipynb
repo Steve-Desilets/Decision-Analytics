{
 "cells": [
  {
   "cell_type": "markdown",
   "id": "b69e79a4",
   "metadata": {},
   "source": [
    "# Markov Chain Exercise"
   ]
  },
  {
   "cell_type": "markdown",
   "id": "7a119035",
   "metadata": {},
   "source": [
    "### MSDS 460 - Module 9 Discussion Post"
   ]
  },
  {
   "cell_type": "markdown",
   "id": "701c329c",
   "metadata": {},
   "source": [
    "#### Steve Desilets"
   ]
  },
  {
   "cell_type": "markdown",
   "id": "097a8c18",
   "metadata": {},
   "source": [
    "#### August 20, 2023"
   ]
  },
  {
   "cell_type": "markdown",
   "id": "5fbd5be2",
   "metadata": {},
   "source": [
    "### Question"
   ]
  },
  {
   "cell_type": "code",
   "execution_count": null,
   "id": "d0be0213",
   "metadata": {},
   "outputs": [],
   "source": []
  },
  {
   "cell_type": "markdown",
   "id": "8cc0c2c7",
   "metadata": {},
   "source": [
    "### Answer"
   ]
  },
  {
   "cell_type": "markdown",
   "id": "25763444",
   "metadata": {},
   "source": [
    "Let's solve this problem analytically by generating Markov simulations of the spy's movements, which we can leverage to calculate the probability of the spy being in each country."
   ]
  },
  {
   "cell_type": "code",
   "execution_count": null,
   "id": "a3d18707",
   "metadata": {},
   "outputs": [],
   "source": []
  }
 ],
 "metadata": {
  "kernelspec": {
   "display_name": "Python 3 (ipykernel)",
   "language": "python",
   "name": "python3"
  },
  "language_info": {
   "codemirror_mode": {
    "name": "ipython",
    "version": 3
   },
   "file_extension": ".py",
   "mimetype": "text/x-python",
   "name": "python",
   "nbconvert_exporter": "python",
   "pygments_lexer": "ipython3",
   "version": "3.9.12"
  }
 },
 "nbformat": 4,
 "nbformat_minor": 5
}
